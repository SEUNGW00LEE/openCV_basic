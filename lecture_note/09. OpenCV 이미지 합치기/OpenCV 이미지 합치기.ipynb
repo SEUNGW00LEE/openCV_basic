{
  "cells": [
    {
      "cell_type": "markdown",
      "metadata": {
        "colab_type": "text",
        "id": "view-in-github"
      },
      "source": [
        "<a href=\"https://colab.research.google.com/github/ndb796/Python-Data-Analysis-and-Image-Processing-Tutorial/blob/master/09.%20OpenCV%20%EC%9D%B4%EB%AF%B8%EC%A7%80%20%ED%95%A9%EC%B9%98%EA%B8%B0/OpenCV%20%EC%9D%B4%EB%AF%B8%EC%A7%80%20%ED%95%A9%EC%B9%98%EA%B8%B0.ipynb\" target=\"_parent\"><img src=\"https://colab.research.google.com/assets/colab-badge.svg\" alt=\"Open In Colab\"/></a>"
      ]
    },
    {
      "cell_type": "markdown",
      "metadata": {
        "colab_type": "text",
        "id": "rBOwLjc91UxJ"
      },
      "source": [
        "## OpenCV 이미지 합치기\n",
        "[강의 노트](https://github.com/ndb796/Python-Data-Analysis-and-Image-Processing-Tutorial/blob/master/09.%20OpenCV%20%EC%9D%B4%EB%AF%B8%EC%A7%80%20%ED%95%A9%EC%B9%98%EA%B8%B0/Python%20%EB%8D%B0%EC%9D%B4%ED%84%B0%20%EB%B6%84%EC%84%9D%EA%B3%BC%20%EC%9D%B4%EB%AF%B8%EC%A7%80%20%EC%B2%98%EB%A6%AC%20-%20OpenCV%20%EC%9D%B4%EB%AF%B8%EC%A7%80%20%ED%95%A9%EC%B9%98%EA%B8%B0.pdf)"
      ]
    },
    {
      "cell_type": "markdown",
      "metadata": {
        "colab_type": "text",
        "id": "xInRXzEc1UzT"
      },
      "source": [
        "cv2.add(): Saturation 연산을 수행합니다.\n",
        "\n",
        "* Saturation: 0보다 작으면 0, 255보다 크면 255로 표현합니다.\n",
        "\n",
        "np.add(): Modulo 연산을 수행합니다.\n",
        "\n",
        "* Modulo: 256은 0, 257은 1로 표현합니다."
      ]
    },
    {
      "cell_type": "code",
      "execution_count": 3,
      "metadata": {
        "colab": {
          "base_uri": "https://localhost:8080/",
          "height": 463
        },
        "colab_type": "code",
        "id": "p83fIBvI16H8",
        "outputId": "8cc10a6d-530e-493d-b70e-e95b9ae69580"
      },
      "outputs": [
        {
          "ename": "error",
          "evalue": "OpenCV(4.9.0) /Users/xperience/GHA-OpenCV-Python2/_work/opencv-python/opencv-python/opencv/modules/core/src/arithm.cpp:650: error: (-209:Sizes of input arguments do not match) The operation is neither 'array op array' (where arrays have the same size and the same number of channels), nor 'array op scalar', nor 'scalar op array' in function 'arithm_op'\n",
          "output_type": "error",
          "traceback": [
            "\u001b[0;31m---------------------------------------------------------------------------\u001b[0m",
            "\u001b[0;31merror\u001b[0m                                     Traceback (most recent call last)",
            "\u001b[1;32m/Users/seungwoo/Desktop/AI/DataAnalysis_ImageProcessing/09. OpenCV 이미지 합치기/OpenCV 이미지 합치기.ipynb 셀 4\u001b[0m line \u001b[0;36m7\n\u001b[1;32m      <a href='vscode-notebook-cell:/Users/seungwoo/Desktop/AI/DataAnalysis_ImageProcessing/09.%20OpenCV%20%EC%9D%B4%EB%AF%B8%EC%A7%80%20%ED%95%A9%EC%B9%98%EA%B8%B0/OpenCV%20%EC%9D%B4%EB%AF%B8%EC%A7%80%20%ED%95%A9%EC%B9%98%EA%B8%B0.ipynb#W5sZmlsZQ%3D%3D?line=3'>4</a>\u001b[0m image_1 \u001b[39m=\u001b[39m cv2\u001b[39m.\u001b[39mimread(\u001b[39m'\u001b[39m\u001b[39m../../image/elecsnake.png\u001b[39m\u001b[39m'\u001b[39m)\n\u001b[1;32m      <a href='vscode-notebook-cell:/Users/seungwoo/Desktop/AI/DataAnalysis_ImageProcessing/09.%20OpenCV%20%EC%9D%B4%EB%AF%B8%EC%A7%80%20%ED%95%A9%EC%B9%98%EA%B8%B0/OpenCV%20%EC%9D%B4%EB%AF%B8%EC%A7%80%20%ED%95%A9%EC%B9%98%EA%B8%B0.ipynb#W5sZmlsZQ%3D%3D?line=4'>5</a>\u001b[0m image_2 \u001b[39m=\u001b[39m cv2\u001b[39m.\u001b[39mimread(\u001b[39m'\u001b[39m\u001b[39m../../image/peppertons.png\u001b[39m\u001b[39m'\u001b[39m)\n\u001b[0;32m----> <a href='vscode-notebook-cell:/Users/seungwoo/Desktop/AI/DataAnalysis_ImageProcessing/09.%20OpenCV%20%EC%9D%B4%EB%AF%B8%EC%A7%80%20%ED%95%A9%EC%B9%98%EA%B8%B0/OpenCV%20%EC%9D%B4%EB%AF%B8%EC%A7%80%20%ED%95%A9%EC%B9%98%EA%B8%B0.ipynb#W5sZmlsZQ%3D%3D?line=6'>7</a>\u001b[0m result \u001b[39m=\u001b[39m cv2\u001b[39m.\u001b[39;49madd(image_1, image_2)\n\u001b[1;32m      <a href='vscode-notebook-cell:/Users/seungwoo/Desktop/AI/DataAnalysis_ImageProcessing/09.%20OpenCV%20%EC%9D%B4%EB%AF%B8%EC%A7%80%20%ED%95%A9%EC%B9%98%EA%B8%B0/OpenCV%20%EC%9D%B4%EB%AF%B8%EC%A7%80%20%ED%95%A9%EC%B9%98%EA%B8%B0.ipynb#W5sZmlsZQ%3D%3D?line=7'>8</a>\u001b[0m plt\u001b[39m.\u001b[39mimshow(cv2\u001b[39m.\u001b[39mcvtColor(result, cv2\u001b[39m.\u001b[39mCOLOR_BGR2RGB))\n\u001b[1;32m      <a href='vscode-notebook-cell:/Users/seungwoo/Desktop/AI/DataAnalysis_ImageProcessing/09.%20OpenCV%20%EC%9D%B4%EB%AF%B8%EC%A7%80%20%ED%95%A9%EC%B9%98%EA%B8%B0/OpenCV%20%EC%9D%B4%EB%AF%B8%EC%A7%80%20%ED%95%A9%EC%B9%98%EA%B8%B0.ipynb#W5sZmlsZQ%3D%3D?line=8'>9</a>\u001b[0m plt\u001b[39m.\u001b[39mshow()\n",
            "\u001b[0;31merror\u001b[0m: OpenCV(4.9.0) /Users/xperience/GHA-OpenCV-Python2/_work/opencv-python/opencv-python/opencv/modules/core/src/arithm.cpp:650: error: (-209:Sizes of input arguments do not match) The operation is neither 'array op array' (where arrays have the same size and the same number of channels), nor 'array op scalar', nor 'scalar op array' in function 'arithm_op'\n"
          ]
        }
      ],
      "source": [
        "import cv2\n",
        "import matplotlib.pyplot as plt\n",
        "\n",
        "image_1 = cv2.imread('../../image/elecsnake.png')\n",
        "image_2 = cv2.imread('../../image/peppertons.png')\n",
        "\n",
        "result = cv2.add(image_1, image_2)\n",
        "plt.imshow(cv2.cvtColor(result, cv2.COLOR_BGR2RGB))\n",
        "plt.show()\n",
        "\n",
        "result = image_1 + image_2\n",
        "plt.imshow(cv2.cvtColor(result, cv2.COLOR_BGR2RGB))\n",
        "plt.show()\n",
        "\n",
        "#error: (-209:Sizes of input arguments do not match) \n",
        "# The operation is neither 'array op array' (where arrays have the same size and the same number of channels), \n",
        "# nor 'array op scalar', nor 'scalar op array' in function 'arithm_op'"
      ]
    },
    {
      "cell_type": "code",
      "execution_count": null,
      "metadata": {},
      "outputs": [],
      "source": []
    }
  ],
  "metadata": {
    "colab": {
      "collapsed_sections": [],
      "include_colab_link": true,
      "name": "OpenCV 이미지 합치기",
      "provenance": [],
      "version": "0.3.2"
    },
    "kernelspec": {
      "display_name": "Python 3",
      "name": "python3"
    },
    "language_info": {
      "codemirror_mode": {
        "name": "ipython",
        "version": 3
      },
      "file_extension": ".py",
      "mimetype": "text/x-python",
      "name": "python",
      "nbconvert_exporter": "python",
      "pygments_lexer": "ipython3",
      "version": "3.11.1"
    }
  },
  "nbformat": 4,
  "nbformat_minor": 0
}
